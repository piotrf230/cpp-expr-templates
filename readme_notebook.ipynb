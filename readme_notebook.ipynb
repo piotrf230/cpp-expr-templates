{
 "cells": [
  {
   "cell_type": "markdown",
   "metadata": {},
   "source": [
    "# `C++` expression templates projects\n",
    "## Simple integration\n",
    "This program presents a way of using expression templates in order to provide a very readable way of creating and passing functional objects to functions performing mathematical equations.\n",
    "### Compilation and runing\n",
    "In order to compile the program using `make` and `g++` and run it, you need to execute the following commands:\n",
    "```bash\n",
    "make func-expr\n",
    "./func-expr\n",
    "```\n",
    "### Output interpretation\n",
    "The program calculates and outputs the integral of `f(x) = 2x^2 - 3x + 3` function from `0` to `3`, using Trapezoidal Rule in steps of `0.001`. The analitical solution is `13.5`.\n",
    "## Earth and Moon simulation\n",
    "This simulation uses expression templates to efficiently calcultate the position of Earth and Moon in space (using velocity Verlet's method),\n",
    "while maintaining the readability of code using expression templates for operations on vectors.\n",
    "This is a very simple example of the use of expression templates. The simulation could be expanded to operating in more dimensions\n",
    "and the approach could be applied to optimize operations on very large data structures.\n",
    "### Compilation and runing\n",
    "In order to compile the program using `make` and `g++` and run it, you need to execute the following commands:\n",
    "```bash\n",
    "make earth-moon\n",
    "./earth-moon\n",
    "```\n",
    "### Output interpretation\n",
    "The python script below visualizes the moon's orbit around Earth (it show's the moon's position relative to Earth, since in the simulation Earth isn't fixed to a point in space) and shows the changes of the velocity vector components."
   ]
  },
  {
   "cell_type": "code",
   "execution_count": null,
   "metadata": {},
   "outputs": [],
   "source": [
    "from pandas import read_csv\n",
    "from matplotlib import pyplot\n",
    "\n",
    "data = read_csv(\"outputs/earth_moon_positions.dat\", sep=\";\")\n",
    "\n",
    "fig, (ax_pos, ax_vel_earth, ax_vel_moon) = pyplot.subplots(3,1,figsize=(8,26))\n",
    "\n",
    "ax_pos.plot(data[\"moon_position_x\"]-data[\"earth_position_x\"], data[\"moon_position_y\"]-data[\"earth_position_y\"], c=\"b\", label=\"Moon orbit\")\n",
    "ax_pos.plot(0,0,\"ro\")\n",
    "ax_pos.set_xlabel(\"x [m]\")\n",
    "ax_pos.set_ylabel(\"y [m]\")\n",
    "ax_pos.annotate(\"Earth\", xy=(.1e8,.1e8))\n",
    "ax_pos.legend()\n",
    "\n",
    "ax_vel_earth.set_title(\"Earth Velocity\")\n",
    "ax_vel_earth.plot(data[\"time\"], data[\"earth_velocity_x\"], c=\"g\", label=\"x\")\n",
    "ax_vel_earth.plot(data[\"time\"], data[\"earth_velocity_y\"], c=\"b\", label=\"y\")\n",
    "ax_vel_earth.set_xlabel(\"t [s]\")\n",
    "ax_vel_earth.set_ylabel(\"v [m/s]\")\n",
    "ax_vel_earth.legend()\n",
    "\n",
    "ax_vel_moon.set_title(\"Moon Velocity\")\n",
    "ax_vel_moon.plot(data[\"time\"], data[\"moon_velocity_x\"], c=\"g\", label=\"x\")\n",
    "ax_vel_moon.plot(data[\"time\"], data[\"moon_velocity_y\"], c=\"b\", label=\"y\")\n",
    "ax_vel_moon.set_xlabel(\"t [s]\")\n",
    "ax_vel_moon.set_ylabel(\"v [m/s]\")\n",
    "ax_vel_moon.legend()\n",
    "\n",
    "pyplot.show()"
   ]
  }
 ],
 "metadata": {
  "kernelspec": {
   "display_name": "Python 3",
   "language": "python",
   "name": "python3"
  },
  "language_info": {
   "codemirror_mode": {
    "name": "ipython",
    "version": 3
   },
   "file_extension": ".py",
   "mimetype": "text/x-python",
   "name": "python",
   "nbconvert_exporter": "python",
   "pygments_lexer": "ipython3",
   "version": "3.12.2"
  }
 },
 "nbformat": 4,
 "nbformat_minor": 2
}
